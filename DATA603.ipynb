{
 "cells": [
  {
   "cell_type": "markdown",
   "id": "8f2169e4",
   "metadata": {},
   "source": [
    "# Crime Investigators\n",
    "### Working with Crime Data \n",
    "\n",
    "DATA 603 Assignment"
   ]
  },
  {
   "cell_type": "code",
   "execution_count": 21,
   "id": "7591d595",
   "metadata": {},
   "outputs": [],
   "source": [
    "from pyspark.sql import SparkSession\n",
    "from pyspark.sql.types import StructType, StructField, StringType, IntegerType, TimestampType\n",
    "from pyspark.sql.functions import col\n",
    "from pyspark.sql.types import DateType\n",
    "from pyspark.sql.functions import to_date\n",
    "from pyspark.sql.functions import when\n",
    "import matplotlib.pyplot as plt\n",
    "import numpy as np\n",
    "from pyspark.sql.functions import year, col\n",
    "from pyspark.sql.functions import unix_timestamp\n",
    "from pyspark.sql.functions import year"
   ]
  },
  {
   "cell_type": "markdown",
   "id": "591297c2",
   "metadata": {},
   "source": [
    "### 1) Create a Spark session"
   ]
  },
  {
   "cell_type": "code",
   "execution_count": 2,
   "id": "171882d4",
   "metadata": {},
   "outputs": [
    {
     "name": "stdout",
     "output_type": "stream",
     "text": [
      "23/03/28 23:32:33 WARN Utils: Your hostname, Shyams-MacBook-Pro.local resolves to a loopback address: 127.0.0.1; using 10.0.0.92 instead (on interface en0)\n",
      "23/03/28 23:32:33 WARN Utils: Set SPARK_LOCAL_IP if you need to bind to another address\n"
     ]
    },
    {
     "name": "stderr",
     "output_type": "stream",
     "text": [
      "Setting default log level to \"WARN\".\n",
      "To adjust logging level use sc.setLogLevel(newLevel). For SparkR, use setLogLevel(newLevel).\n"
     ]
    },
    {
     "name": "stdout",
     "output_type": "stream",
     "text": [
      "23/03/28 23:32:34 WARN NativeCodeLoader: Unable to load native-hadoop library for your platform... using builtin-java classes where applicable\n",
      "23/03/28 23:32:34 WARN Utils: Service 'SparkUI' could not bind on port 4040. Attempting port 4041.\n"
     ]
    }
   ],
   "source": [
    "spark = SparkSession.builder.appName(\"ChicagoCrimeData\").getOrCreate()\n"
   ]
  },
  {
   "cell_type": "markdown",
   "id": "1059fecc",
   "metadata": {},
   "source": [
    "### 2) Define the schema for loading the Chicago crime datase"
   ]
  },
  {
   "cell_type": "code",
   "execution_count": 3,
   "id": "e0d0677a",
   "metadata": {},
   "outputs": [],
   "source": [
    "schema = StructType([\n",
    "    StructField(\"ID\", IntegerType(), True),\n",
    "    StructField(\"Case_Number\", StringType(), True),\n",
    "    StructField(\"Date\", TimestampType(), True),\n",
    "    StructField(\"Block\", StringType(), True),\n",
    "    StructField(\"IUCR\", StringType(), True),\n",
    "    StructField(\"Primary_Type\", StringType(), True),\n",
    "    StructField(\"Description\", StringType(), True),\n",
    "    StructField(\"Location_Description\", StringType(), True),\n",
    "    StructField(\"Arrest\", StringType(), True),\n",
    "    StructField(\"Domestic\", StringType(), True),\n",
    "    StructField(\"Beat\", IntegerType(), True),\n",
    "    StructField(\"District\", IntegerType(), True),\n",
    "    StructField(\"Ward\", IntegerType(), True),\n",
    "    StructField(\"Community_Area\", IntegerType(), True),\n",
    "    StructField(\"FBI_Code\", StringType(), True),\n",
    "    StructField(\"X_Coordinate\", StringType(), True),\n",
    "    StructField(\"Y_Coordinate\", StringType(), True),\n",
    "    StructField(\"Year\", IntegerType(), True),\n",
    "    StructField(\"Updated_On\", TimestampType(), True),\n",
    "    StructField(\"Latitude\", StringType(), True),\n",
    "    StructField(\"Longitude\", StringType(), True),\n",
    "    StructField(\"Location\", StringType(), True)\n",
    "])"
   ]
  },
  {
   "cell_type": "markdown",
   "id": "d46fe5f8",
   "metadata": {},
   "source": [
    "### 3) Load the Chicago crime data"
   ]
  },
  {
   "cell_type": "code",
   "execution_count": 4,
   "id": "b3240908",
   "metadata": {},
   "outputs": [
    {
     "name": "stderr",
     "output_type": "stream",
     "text": [
      "                                                                                \r"
     ]
    }
   ],
   "source": [
    "chicago_crime_data = spark.read.format(\"csv\").option(\"header\", True).option(\"inferSchema\", True).load(\"Crimes-2001_to_Present.csv\")"
   ]
  },
  {
   "cell_type": "code",
   "execution_count": 5,
   "id": "bc0bd4c3",
   "metadata": {},
   "outputs": [
    {
     "name": "stdout",
     "output_type": "stream",
     "text": [
      "+--------+-----------+--------------------+--------------------+----+------------+--------------------+--------------------+------+--------+----+--------+----+--------------+--------+------------+------------+----+--------------------+------------+-------------+--------------------+\n",
      "|      ID|Case Number|                Date|               Block|IUCR|Primary Type|         Description|Location Description|Arrest|Domestic|Beat|District|Ward|Community Area|FBI Code|X Coordinate|Y Coordinate|Year|          Updated On|    Latitude|    Longitude|            Location|\n",
      "+--------+-----------+--------------------+--------------------+----+------------+--------------------+--------------------+------+--------+----+--------+----+--------------+--------+------------+------------+----+--------------------+------------+-------------+--------------------+\n",
      "|10224738|   HY411648|09/05/2015 01:30:...|     043XX S WOOD ST|0486|     BATTERY|DOMESTIC BATTERY ...|           RESIDENCE| false|    true| 924|       9|  12|            61|     08B|     1165074|     1875917|2015|02/10/2018 03:50:...|41.815117282|-87.669999562|(41.815117282, -8...|\n",
      "|10224739|   HY411615|09/04/2015 11:30:...| 008XX N CENTRAL AVE|0870|       THEFT|      POCKET-PICKING|             CTA BUS| false|   false|1511|      15|  29|            25|      06|     1138875|     1904869|2015|02/10/2018 03:50:...|41.895080471|-87.765400451|(41.895080471, -8...|\n",
      "|11646166|   JC213529|09/01/2018 12:01:...|082XX S INGLESIDE...|0810|       THEFT|           OVER $500|           RESIDENCE| false|    true| 631|       6|   8|            44|      06|        null|        null|2018|04/06/2019 04:04:...|        null|         null|                null|\n",
      "|10224740|   HY411595|09/05/2015 12:45:...|   035XX W BARRY AVE|2023|   NARCOTICS|POSS: HEROIN(BRN/...|            SIDEWALK|  true|   false|1412|      14|  35|            21|      18|     1152037|     1920384|2015|02/10/2018 03:50:...|41.937405765|-87.716649687|(41.937405765, -8...|\n",
      "|10224741|   HY411610|09/05/2015 01:00:...| 0000X N LARAMIE AVE|0560|     ASSAULT|              SIMPLE|           APARTMENT| false|    true|1522|      15|  28|            25|     08A|     1141706|     1900086|2015|02/10/2018 03:50:...|41.881903443|-87.755121152|(41.881903443, -8...|\n",
      "+--------+-----------+--------------------+--------------------+----+------------+--------------------+--------------------+------+--------+----+--------+----+--------------+--------+------------+------------+----+--------------------+------------+-------------+--------------------+\n",
      "only showing top 5 rows\n",
      "\n"
     ]
    }
   ],
   "source": [
    "chicago_crime_data.show(5)"
   ]
  },
  {
   "cell_type": "markdown",
   "id": "8dcf5f91",
   "metadata": {},
   "source": [
    "### 4) a. Remove all null values."
   ]
  },
  {
   "cell_type": "code",
   "execution_count": 6,
   "id": "b7c8c773",
   "metadata": {},
   "outputs": [],
   "source": [
    "\n",
    "chicago_crime_data = chicago_crime_data.dropna()"
   ]
  },
  {
   "cell_type": "code",
   "execution_count": 7,
   "id": "c66f0f53",
   "metadata": {},
   "outputs": [
    {
     "name": "stdout",
     "output_type": "stream",
     "text": [
      "root\n",
      " |-- ID: integer (nullable = true)\n",
      " |-- Case Number: string (nullable = true)\n",
      " |-- Date: string (nullable = true)\n",
      " |-- Block: string (nullable = true)\n",
      " |-- IUCR: string (nullable = true)\n",
      " |-- Primary Type: string (nullable = true)\n",
      " |-- Description: string (nullable = true)\n",
      " |-- Location Description: string (nullable = true)\n",
      " |-- Arrest: boolean (nullable = true)\n",
      " |-- Domestic: boolean (nullable = true)\n",
      " |-- Beat: integer (nullable = true)\n",
      " |-- District: integer (nullable = true)\n",
      " |-- Ward: integer (nullable = true)\n",
      " |-- Community Area: integer (nullable = true)\n",
      " |-- FBI Code: string (nullable = true)\n",
      " |-- X Coordinate: integer (nullable = true)\n",
      " |-- Y Coordinate: integer (nullable = true)\n",
      " |-- Year: integer (nullable = true)\n",
      " |-- Updated On: string (nullable = true)\n",
      " |-- Latitude: double (nullable = true)\n",
      " |-- Longitude: double (nullable = true)\n",
      " |-- Location: string (nullable = true)\n",
      "\n"
     ]
    }
   ],
   "source": [
    "chicago_crime_data.printSchema()"
   ]
  },
  {
   "cell_type": "markdown",
   "id": "ccb083b1",
   "metadata": {},
   "source": [
    "### 4) b. Change 'Date' column data type"
   ]
  },
  {
   "cell_type": "code",
   "execution_count": 8,
   "id": "f0c73a64",
   "metadata": {},
   "outputs": [],
   "source": [
    "chicago_crime_data = chicago_crime_data.withColumn('Date', unix_timestamp('Date', 'MM/dd/yyyy hh:mm:ss a').cast('timestamp'))\n"
   ]
  },
  {
   "cell_type": "code",
   "execution_count": 9,
   "id": "200d4872",
   "metadata": {},
   "outputs": [
    {
     "name": "stdout",
     "output_type": "stream",
     "text": [
      "root\n",
      " |-- ID: integer (nullable = true)\n",
      " |-- Case Number: string (nullable = true)\n",
      " |-- Date: timestamp (nullable = true)\n",
      " |-- Block: string (nullable = true)\n",
      " |-- IUCR: string (nullable = true)\n",
      " |-- Primary Type: string (nullable = true)\n",
      " |-- Description: string (nullable = true)\n",
      " |-- Location Description: string (nullable = true)\n",
      " |-- Arrest: boolean (nullable = true)\n",
      " |-- Domestic: boolean (nullable = true)\n",
      " |-- Beat: integer (nullable = true)\n",
      " |-- District: integer (nullable = true)\n",
      " |-- Ward: integer (nullable = true)\n",
      " |-- Community Area: integer (nullable = true)\n",
      " |-- FBI Code: string (nullable = true)\n",
      " |-- X Coordinate: integer (nullable = true)\n",
      " |-- Y Coordinate: integer (nullable = true)\n",
      " |-- Year: integer (nullable = true)\n",
      " |-- Updated On: string (nullable = true)\n",
      " |-- Latitude: double (nullable = true)\n",
      " |-- Longitude: double (nullable = true)\n",
      " |-- Location: string (nullable = true)\n",
      "\n"
     ]
    }
   ],
   "source": [
    "chicago_crime_data.printSchema()"
   ]
  },
  {
   "cell_type": "code",
   "execution_count": 10,
   "id": "c390cfa0",
   "metadata": {},
   "outputs": [
    {
     "name": "stdout",
     "output_type": "stream",
     "text": [
      "+--------+-----------+-------------------+-------------------+----+------------+--------------------+--------------------+------+--------+----+--------+----+--------------+--------+------------+------------+----+--------------------+------------+-------------+--------------------+\n",
      "|      ID|Case Number|               Date|              Block|IUCR|Primary Type|         Description|Location Description|Arrest|Domestic|Beat|District|Ward|Community Area|FBI Code|X Coordinate|Y Coordinate|Year|          Updated On|    Latitude|    Longitude|            Location|\n",
      "+--------+-----------+-------------------+-------------------+----+------------+--------------------+--------------------+------+--------+----+--------+----+--------------+--------+------------+------------+----+--------------------+------------+-------------+--------------------+\n",
      "|10224738|   HY411648|2015-09-05 13:30:00|    043XX S WOOD ST|0486|     BATTERY|DOMESTIC BATTERY ...|           RESIDENCE| false|    true| 924|       9|  12|            61|     08B|     1165074|     1875917|2015|02/10/2018 03:50:...|41.815117282|-87.669999562|(41.815117282, -8...|\n",
      "|10224739|   HY411615|2015-09-04 11:30:00|008XX N CENTRAL AVE|0870|       THEFT|      POCKET-PICKING|             CTA BUS| false|   false|1511|      15|  29|            25|      06|     1138875|     1904869|2015|02/10/2018 03:50:...|41.895080471|-87.765400451|(41.895080471, -8...|\n",
      "|10224740|   HY411595|2015-09-05 12:45:00|  035XX W BARRY AVE|2023|   NARCOTICS|POSS: HEROIN(BRN/...|            SIDEWALK|  true|   false|1412|      14|  35|            21|      18|     1152037|     1920384|2015|02/10/2018 03:50:...|41.937405765|-87.716649687|(41.937405765, -8...|\n",
      "|10224741|   HY411610|2015-09-05 13:00:00|0000X N LARAMIE AVE|0560|     ASSAULT|              SIMPLE|           APARTMENT| false|    true|1522|      15|  28|            25|     08A|     1141706|     1900086|2015|02/10/2018 03:50:...|41.881903443|-87.755121152|(41.881903443, -8...|\n",
      "|10224742|   HY411435|2015-09-05 10:55:00|082XX S LOOMIS BLVD|0610|    BURGLARY|      FORCIBLE ENTRY|           RESIDENCE| false|   false| 614|       6|  21|            71|      05|     1168430|     1850165|2015|02/10/2018 03:50:...|41.744378879|-87.658430635|(41.744378879, -8...|\n",
      "+--------+-----------+-------------------+-------------------+----+------------+--------------------+--------------------+------+--------+----+--------+----+--------------+--------+------------+------------+----+--------------------+------------+-------------+--------------------+\n",
      "only showing top 5 rows\n",
      "\n"
     ]
    }
   ],
   "source": [
    "chicago_crime_data.show(5)"
   ]
  },
  {
   "cell_type": "markdown",
   "id": "e7ea5227",
   "metadata": {},
   "source": [
    "### 5) Filter the data for last ten years."
   ]
  },
  {
   "cell_type": "code",
   "execution_count": 11,
   "id": "440a3c88",
   "metadata": {},
   "outputs": [
    {
     "name": "stdout",
     "output_type": "stream",
     "text": [
      "+--------+-----------+-------------------+-------------------+----+------------+--------------------+--------------------+------+--------+----+--------+----+--------------+--------+------------+------------+----+--------------------+------------+-------------+--------------------+\n",
      "|      ID|Case Number|               Date|              Block|IUCR|Primary Type|         Description|Location Description|Arrest|Domestic|Beat|District|Ward|Community Area|FBI Code|X Coordinate|Y Coordinate|Year|          Updated On|    Latitude|    Longitude|            Location|\n",
      "+--------+-----------+-------------------+-------------------+----+------------+--------------------+--------------------+------+--------+----+--------+----+--------------+--------+------------+------------+----+--------------------+------------+-------------+--------------------+\n",
      "|10224738|   HY411648|2015-09-05 13:30:00|    043XX S WOOD ST|0486|     BATTERY|DOMESTIC BATTERY ...|           RESIDENCE| false|    true| 924|       9|  12|            61|     08B|     1165074|     1875917|2015|02/10/2018 03:50:...|41.815117282|-87.669999562|(41.815117282, -8...|\n",
      "|10224739|   HY411615|2015-09-04 11:30:00|008XX N CENTRAL AVE|0870|       THEFT|      POCKET-PICKING|             CTA BUS| false|   false|1511|      15|  29|            25|      06|     1138875|     1904869|2015|02/10/2018 03:50:...|41.895080471|-87.765400451|(41.895080471, -8...|\n",
      "|10224740|   HY411595|2015-09-05 12:45:00|  035XX W BARRY AVE|2023|   NARCOTICS|POSS: HEROIN(BRN/...|            SIDEWALK|  true|   false|1412|      14|  35|            21|      18|     1152037|     1920384|2015|02/10/2018 03:50:...|41.937405765|-87.716649687|(41.937405765, -8...|\n",
      "|10224741|   HY411610|2015-09-05 13:00:00|0000X N LARAMIE AVE|0560|     ASSAULT|              SIMPLE|           APARTMENT| false|    true|1522|      15|  28|            25|     08A|     1141706|     1900086|2015|02/10/2018 03:50:...|41.881903443|-87.755121152|(41.881903443, -8...|\n",
      "|10224742|   HY411435|2015-09-05 10:55:00|082XX S LOOMIS BLVD|0610|    BURGLARY|      FORCIBLE ENTRY|           RESIDENCE| false|   false| 614|       6|  21|            71|      05|     1168430|     1850165|2015|02/10/2018 03:50:...|41.744378879|-87.658430635|(41.744378879, -8...|\n",
      "+--------+-----------+-------------------+-------------------+----+------------+--------------------+--------------------+------+--------+----+--------+----+--------------+--------+------------+------------+----+--------------------+------------+-------------+--------------------+\n",
      "only showing top 5 rows\n",
      "\n"
     ]
    }
   ],
   "source": [
    "last_10_years_data = chicago_crime_data.filter(year('Date') >= 2012)\n",
    "last_10_years_data.show(5)"
   ]
  },
  {
   "cell_type": "markdown",
   "id": "97ef9158",
   "metadata": {},
   "source": [
    "### 6) Remove all the records with the following crime types:\n",
    "'NON-CRIMINAL (SUBJECT SPECIFIED)'\n",
    "'OTHER OFFENSE'\n",
    "'STALKING'\n",
    "'NON - CRIMINAL'\n",
    "'ARSON"
   ]
  },
  {
   "cell_type": "code",
   "execution_count": 12,
   "id": "dbd9d0d8",
   "metadata": {},
   "outputs": [
    {
     "name": "stderr",
     "output_type": "stream",
     "text": [
      "                                                                                \r"
     ]
    },
    {
     "data": {
      "text/plain": [
       "[Row(Primary Type='OFFENSE INVOLVING CHILDREN'),\n",
       " Row(Primary Type='CRIMINAL SEXUAL ASSAULT'),\n",
       " Row(Primary Type='STALKING'),\n",
       " Row(Primary Type='PUBLIC PEACE VIOLATION'),\n",
       " Row(Primary Type='OBSCENITY'),\n",
       " Row(Primary Type='NON-CRIMINAL (SUBJECT SPECIFIED)'),\n",
       " Row(Primary Type='ARSON'),\n",
       " Row(Primary Type='GAMBLING'),\n",
       " Row(Primary Type='CRIMINAL TRESPASS'),\n",
       " Row(Primary Type='ASSAULT'),\n",
       " Row(Primary Type='NON - CRIMINAL'),\n",
       " Row(Primary Type='LIQUOR LAW VIOLATION'),\n",
       " Row(Primary Type='MOTOR VEHICLE THEFT'),\n",
       " Row(Primary Type='THEFT'),\n",
       " Row(Primary Type='BATTERY'),\n",
       " Row(Primary Type='ROBBERY'),\n",
       " Row(Primary Type='HOMICIDE'),\n",
       " Row(Primary Type='PUBLIC INDECENCY'),\n",
       " Row(Primary Type='CRIM SEXUAL ASSAULT'),\n",
       " Row(Primary Type='HUMAN TRAFFICKING'),\n",
       " Row(Primary Type='INTIMIDATION'),\n",
       " Row(Primary Type='PROSTITUTION'),\n",
       " Row(Primary Type='DECEPTIVE PRACTICE'),\n",
       " Row(Primary Type='CONCEALED CARRY LICENSE VIOLATION'),\n",
       " Row(Primary Type='SEX OFFENSE'),\n",
       " Row(Primary Type='CRIMINAL DAMAGE'),\n",
       " Row(Primary Type='NARCOTICS'),\n",
       " Row(Primary Type='NON-CRIMINAL'),\n",
       " Row(Primary Type='OTHER OFFENSE'),\n",
       " Row(Primary Type='KIDNAPPING'),\n",
       " Row(Primary Type='BURGLARY'),\n",
       " Row(Primary Type='WEAPONS VIOLATION'),\n",
       " Row(Primary Type='OTHER NARCOTIC VIOLATION'),\n",
       " Row(Primary Type='INTERFERENCE WITH PUBLIC OFFICER'),\n",
       " Row(Primary Type='RITUALISM')]"
      ]
     },
     "execution_count": 12,
     "metadata": {},
     "output_type": "execute_result"
    }
   ],
   "source": [
    "chicago_crime_data.select('Primary Type').distinct().collect()"
   ]
  },
  {
   "cell_type": "code",
   "execution_count": 13,
   "id": "00396ba3",
   "metadata": {},
   "outputs": [
    {
     "name": "stdout",
     "output_type": "stream",
     "text": [
      "+--------+-----------+-------------------+-------------------+----+------------+--------------------+--------------------+------+--------+----+--------+----+--------------+--------+------------+------------+----+--------------------+------------+-------------+--------------------+\n",
      "|      ID|Case Number|               Date|              Block|IUCR|Primary Type|         Description|Location Description|Arrest|Domestic|Beat|District|Ward|Community Area|FBI Code|X Coordinate|Y Coordinate|Year|          Updated On|    Latitude|    Longitude|            Location|\n",
      "+--------+-----------+-------------------+-------------------+----+------------+--------------------+--------------------+------+--------+----+--------+----+--------------+--------+------------+------------+----+--------------------+------------+-------------+--------------------+\n",
      "|10224738|   HY411648|2015-09-05 13:30:00|    043XX S WOOD ST|0486|     BATTERY|DOMESTIC BATTERY ...|           RESIDENCE| false|    true| 924|       9|  12|            61|     08B|     1165074|     1875917|2015|02/10/2018 03:50:...|41.815117282|-87.669999562|(41.815117282, -8...|\n",
      "|10224739|   HY411615|2015-09-04 11:30:00|008XX N CENTRAL AVE|0870|       THEFT|      POCKET-PICKING|             CTA BUS| false|   false|1511|      15|  29|            25|      06|     1138875|     1904869|2015|02/10/2018 03:50:...|41.895080471|-87.765400451|(41.895080471, -8...|\n",
      "|10224740|   HY411595|2015-09-05 12:45:00|  035XX W BARRY AVE|2023|   NARCOTICS|POSS: HEROIN(BRN/...|            SIDEWALK|  true|   false|1412|      14|  35|            21|      18|     1152037|     1920384|2015|02/10/2018 03:50:...|41.937405765|-87.716649687|(41.937405765, -8...|\n",
      "|10224741|   HY411610|2015-09-05 13:00:00|0000X N LARAMIE AVE|0560|     ASSAULT|              SIMPLE|           APARTMENT| false|    true|1522|      15|  28|            25|     08A|     1141706|     1900086|2015|02/10/2018 03:50:...|41.881903443|-87.755121152|(41.881903443, -8...|\n",
      "|10224742|   HY411435|2015-09-05 10:55:00|082XX S LOOMIS BLVD|0610|    BURGLARY|      FORCIBLE ENTRY|           RESIDENCE| false|   false| 614|       6|  21|            71|      05|     1168430|     1850165|2015|02/10/2018 03:50:...|41.744378879|-87.658430635|(41.744378879, -8...|\n",
      "+--------+-----------+-------------------+-------------------+----+------------+--------------------+--------------------+------+--------+----+--------+----+--------------+--------+------------+------------+----+--------------------+------------+-------------+--------------------+\n",
      "only showing top 5 rows\n",
      "\n"
     ]
    }
   ],
   "source": [
    "delete_crimes = ['NON-CRIMINAL (SUBJECT SPECIFIED)', 'OTHER OFFENSE', 'STALKING', 'NON - CRIMINAL', 'ARSON']\n",
    "chicago_crime_data = chicago_crime_data.filter(~chicago_crime_data['Primary Type'].isin(delete_crimes))\n",
    "chicago_crime_data.show(5)"
   ]
  },
  {
   "cell_type": "code",
   "execution_count": 14,
   "id": "bcd896be",
   "metadata": {},
   "outputs": [
    {
     "name": "stderr",
     "output_type": "stream",
     "text": [
      "[Stage 9:============>                                             (3 + 8) / 14]\r"
     ]
    },
    {
     "name": "stdout",
     "output_type": "stream",
     "text": [
      "23/03/28 23:32:47 WARN GarbageCollectionMetrics: To enable non-built-in garbage collector(s) List(G1 Concurrent GC), users should configure it(them) to spark.eventLog.gcMetrics.youngGenerationGarbageCollectors or spark.eventLog.gcMetrics.oldGenerationGarbageCollectors\n"
     ]
    },
    {
     "name": "stderr",
     "output_type": "stream",
     "text": [
      "                                                                                \r"
     ]
    },
    {
     "data": {
      "text/plain": [
       "[Row(Primary Type='OFFENSE INVOLVING CHILDREN'),\n",
       " Row(Primary Type='CRIMINAL SEXUAL ASSAULT'),\n",
       " Row(Primary Type='PUBLIC PEACE VIOLATION'),\n",
       " Row(Primary Type='OBSCENITY'),\n",
       " Row(Primary Type='GAMBLING'),\n",
       " Row(Primary Type='CRIMINAL TRESPASS'),\n",
       " Row(Primary Type='ASSAULT'),\n",
       " Row(Primary Type='LIQUOR LAW VIOLATION'),\n",
       " Row(Primary Type='MOTOR VEHICLE THEFT'),\n",
       " Row(Primary Type='THEFT'),\n",
       " Row(Primary Type='BATTERY'),\n",
       " Row(Primary Type='ROBBERY'),\n",
       " Row(Primary Type='HOMICIDE'),\n",
       " Row(Primary Type='PUBLIC INDECENCY'),\n",
       " Row(Primary Type='CRIM SEXUAL ASSAULT'),\n",
       " Row(Primary Type='HUMAN TRAFFICKING'),\n",
       " Row(Primary Type='INTIMIDATION'),\n",
       " Row(Primary Type='PROSTITUTION'),\n",
       " Row(Primary Type='DECEPTIVE PRACTICE'),\n",
       " Row(Primary Type='CONCEALED CARRY LICENSE VIOLATION'),\n",
       " Row(Primary Type='SEX OFFENSE'),\n",
       " Row(Primary Type='CRIMINAL DAMAGE'),\n",
       " Row(Primary Type='NARCOTICS'),\n",
       " Row(Primary Type='NON-CRIMINAL'),\n",
       " Row(Primary Type='KIDNAPPING'),\n",
       " Row(Primary Type='BURGLARY'),\n",
       " Row(Primary Type='WEAPONS VIOLATION'),\n",
       " Row(Primary Type='OTHER NARCOTIC VIOLATION'),\n",
       " Row(Primary Type='INTERFERENCE WITH PUBLIC OFFICER'),\n",
       " Row(Primary Type='RITUALISM')]"
      ]
     },
     "execution_count": 14,
     "metadata": {},
     "output_type": "execute_result"
    }
   ],
   "source": [
    "chicago_crime_data.select('Primary Type').distinct().collect()"
   ]
  },
  {
   "cell_type": "markdown",
   "id": "94b0aeaf",
   "metadata": {},
   "source": [
    "### 7) Merge the similar crime types."
   ]
  },
  {
   "cell_type": "code",
   "execution_count": 15,
   "id": "3f7616e1",
   "metadata": {},
   "outputs": [
    {
     "name": "stdout",
     "output_type": "stream",
     "text": [
      "+--------+-----------+-------------------+-------------------+----+------------+--------------------+--------------------+------+--------+----+--------+----+--------------+--------+------------+------------+----+--------------------+------------+-------------+--------------------+\n",
      "|      ID|Case Number|               Date|              Block|IUCR|Primary Type|         Description|Location Description|Arrest|Domestic|Beat|District|Ward|Community Area|FBI Code|X Coordinate|Y Coordinate|Year|          Updated On|    Latitude|    Longitude|            Location|\n",
      "+--------+-----------+-------------------+-------------------+----+------------+--------------------+--------------------+------+--------+----+--------+----+--------------+--------+------------+------------+----+--------------------+------------+-------------+--------------------+\n",
      "|10224738|   HY411648|2015-09-05 13:30:00|    043XX S WOOD ST|0486|     BATTERY|DOMESTIC BATTERY ...|           RESIDENCE| false|    true| 924|       9|  12|            61|     08B|     1165074|     1875917|2015|02/10/2018 03:50:...|41.815117282|-87.669999562|(41.815117282, -8...|\n",
      "|10224739|   HY411615|2015-09-04 11:30:00|008XX N CENTRAL AVE|0870|       THEFT|      POCKET-PICKING|             CTA BUS| false|   false|1511|      15|  29|            25|      06|     1138875|     1904869|2015|02/10/2018 03:50:...|41.895080471|-87.765400451|(41.895080471, -8...|\n",
      "|10224740|   HY411595|2015-09-05 12:45:00|  035XX W BARRY AVE|2023|   NARCOTICS|POSS: HEROIN(BRN/...|            SIDEWALK|  true|   false|1412|      14|  35|            21|      18|     1152037|     1920384|2015|02/10/2018 03:50:...|41.937405765|-87.716649687|(41.937405765, -8...|\n",
      "|10224741|   HY411610|2015-09-05 13:00:00|0000X N LARAMIE AVE|0560|     ASSAULT|              SIMPLE|           APARTMENT| false|    true|1522|      15|  28|            25|     08A|     1141706|     1900086|2015|02/10/2018 03:50:...|41.881903443|-87.755121152|(41.881903443, -8...|\n",
      "|10224742|   HY411435|2015-09-05 10:55:00|082XX S LOOMIS BLVD|0610|     ROBBERY|      FORCIBLE ENTRY|           RESIDENCE| false|   false| 614|       6|  21|            71|      05|     1168430|     1850165|2015|02/10/2018 03:50:...|41.744378879|-87.658430635|(41.744378879, -8...|\n",
      "+--------+-----------+-------------------+-------------------+----+------------+--------------------+--------------------+------+--------+----+--------+----+--------------+--------+------------+------------+----+--------------------+------------+-------------+--------------------+\n",
      "only showing top 5 rows\n",
      "\n"
     ]
    }
   ],
   "source": [
    "merge_crimes = {'SEX OFFENSE': 'PROSTITUTION', 'CRIMINAL SEXUAL ASSAULT': 'SEX OFFENSE', 'CRIM SEXUAL ASSAULT' : 'SEX OFFENSE',\n",
    "                'MOTOR VEHICLE THEFT' : 'THEFT', 'BURGLARY' : 'ROBBERY', 'OTHER NARCOTIC VIOLATION':'NARCOTICS' }\n",
    "\n",
    "chicago_crime_data = chicago_crime_data.replace(to_replace=merge_crimes, subset=['Primary Type'])\n",
    "chicago_crime_data.show(5)"
   ]
  },
  {
   "cell_type": "code",
   "execution_count": 16,
   "id": "6f750af0",
   "metadata": {},
   "outputs": [
    {
     "name": "stderr",
     "output_type": "stream",
     "text": [
      "                                                                                \r"
     ]
    },
    {
     "data": {
      "text/plain": [
       "[Row(Primary Type='OFFENSE INVOLVING CHILDREN'),\n",
       " Row(Primary Type='PUBLIC PEACE VIOLATION'),\n",
       " Row(Primary Type='OBSCENITY'),\n",
       " Row(Primary Type='GAMBLING'),\n",
       " Row(Primary Type='CRIMINAL TRESPASS'),\n",
       " Row(Primary Type='ASSAULT'),\n",
       " Row(Primary Type='LIQUOR LAW VIOLATION'),\n",
       " Row(Primary Type='THEFT'),\n",
       " Row(Primary Type='BATTERY'),\n",
       " Row(Primary Type='ROBBERY'),\n",
       " Row(Primary Type='HOMICIDE'),\n",
       " Row(Primary Type='PUBLIC INDECENCY'),\n",
       " Row(Primary Type='HUMAN TRAFFICKING'),\n",
       " Row(Primary Type='INTIMIDATION'),\n",
       " Row(Primary Type='PROSTITUTION'),\n",
       " Row(Primary Type='DECEPTIVE PRACTICE'),\n",
       " Row(Primary Type='CONCEALED CARRY LICENSE VIOLATION'),\n",
       " Row(Primary Type='SEX OFFENSE'),\n",
       " Row(Primary Type='CRIMINAL DAMAGE'),\n",
       " Row(Primary Type='NARCOTICS'),\n",
       " Row(Primary Type='NON-CRIMINAL'),\n",
       " Row(Primary Type='KIDNAPPING'),\n",
       " Row(Primary Type='WEAPONS VIOLATION'),\n",
       " Row(Primary Type='INTERFERENCE WITH PUBLIC OFFICER'),\n",
       " Row(Primary Type='RITUALISM')]"
      ]
     },
     "execution_count": 16,
     "metadata": {},
     "output_type": "execute_result"
    }
   ],
   "source": [
    "chicago_crime_data.select('Primary Type').distinct().collect()"
   ]
  },
  {
   "cell_type": "markdown",
   "id": "83041893",
   "metadata": {},
   "source": [
    "### 8) 1. Show year-wise trend of the crime for last ten years."
   ]
  },
  {
   "cell_type": "code",
   "execution_count": 17,
   "id": "f45df187",
   "metadata": {},
   "outputs": [
    {
     "name": "stderr",
     "output_type": "stream",
     "text": [
      "                                                                                \r"
     ]
    },
    {
     "data": {
      "image/png": "[encoded data removed]",
      "text/plain": [
       "<Figure size 432x288 with 1 Axes>"
      ]
     },
     "metadata": {
      "needs_background": "light"
     },
     "output_type": "display_data"
    }
   ],
   "source": [
    "import matplotlib.pyplot as plt\n",
    "\n",
    "# Filter the data for the last ten years\n",
    "last_10_years_data = chicago_crime_data.filter(year('Date') >= 2012)\n",
    "\n",
    "yearly_crime_counts = last_10_years_data.groupBy(year('Date').alias('Year')).count()\n",
    "\n",
    "pandas_df = yearly_crime_counts.toPandas()\n",
    "pandas_df.plot(kind='bar', x='Year', y='count', color='blue')\n",
    "plt.title('Yearly Crime Trend (Last 10 Years)')\n",
    "plt.xlabel('Year')\n",
    "plt.ylabel('Number of Crimes')\n",
    "plt.show()\n"
   ]
  },
  {
   "cell_type": "markdown",
   "id": "6f6c5d8d",
   "metadata": {},
   "source": [
    "### 8) 2. Find out at which hour of the day crime is highest."
   ]
  },
  {
   "cell_type": "code",
   "execution_count": 18,
   "id": "e181d3aa",
   "metadata": {},
   "outputs": [
    {
     "name": "stderr",
     "output_type": "stream",
     "text": [
      "[Stage 19:========================================>               (10 + 4) / 14]\r"
     ]
    },
    {
     "name": "stdout",
     "output_type": "stream",
     "text": [
      "The hour with the highest crime count is 19\n"
     ]
    },
    {
     "name": "stderr",
     "output_type": "stream",
     "text": [
      "\r",
      "                                                                                \r"
     ]
    }
   ],
   "source": [
    "from pyspark.sql.functions import hour\n",
    "\n",
    "hourly_crime_counts = chicago_crime_data.groupBy(hour('Date').alias('Hour')).count()\n",
    "\n",
    "hourly_crime_counts = hourly_crime_counts.sort('count', ascending=False)\n",
    "\n",
    "print(\"The hour with the highest crime count is\", hourly_crime_counts.first()['Hour'])"
   ]
  },
  {
   "cell_type": "markdown",
   "id": "65168fcc",
   "metadata": {},
   "source": [
    "### 8) 3. Find top ten crimes and present them as a bar chart."
   ]
  },
  {
   "cell_type": "code",
   "execution_count": 19,
   "id": "89f8242b",
   "metadata": {},
   "outputs": [
    {
     "name": "stderr",
     "output_type": "stream",
     "text": [
      "                                                                                \r"
     ]
    },
    {
     "data": {
      "image/png": "[encoded data removed]",
      "text/plain": [
       "<Figure size 432x288 with 1 Axes>"
      ]
     },
     "metadata": {
      "needs_background": "light"
     },
     "output_type": "display_data"
    }
   ],
   "source": [
    "crime_counts = chicago_crime_data.groupBy('Primary Type').count()\n",
    "\n",
    "sorted_crime_counts = crime_counts.sort('count', ascending=False)\n",
    "top_ten_crimes = sorted_crime_counts.limit(10)\n",
    "\n",
    "top_ten_crimes_pd = top_ten_crimes.toPandas()\n",
    "plt.bar(top_ten_crimes_pd['Primary Type'], top_ten_crimes_pd['count'])\n",
    "plt.xticks(rotation=90)\n",
    "plt.xlabel('Primary Type of Crime')\n",
    "plt.ylabel('Number of Crimes')\n",
    "plt.title('Top Ten Crimes')\n",
    "plt.show()"
   ]
  }
 ],
 "metadata": {
  "kernelspec": {
   "display_name": "Python 3 (ipykernel)",
   "language": "python",
   "name": "python3"
  },
  "language_info": {
   "codemirror_mode": {
    "name": "ipython",
    "version": 3
   },
   "file_extension": ".py",
   "mimetype": "text/x-python",
   "name": "python",
   "nbconvert_exporter": "python",
   "pygments_lexer": "ipython3",
   "version": "3.9.12"
  }
 },
 "nbformat": 4,
 "nbformat_minor": 5
}
