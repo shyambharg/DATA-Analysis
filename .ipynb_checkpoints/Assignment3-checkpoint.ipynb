{
 "cells": [
  {
   "cell_type": "markdown",
   "id": "2bbacb33",
   "metadata": {},
   "source": [
    "### Assignment 3\n",
    "### Crime Investigators\n",
    "Working with Crime Data \n",
    "You must use Apache Spark for this assignment.\n",
    "1. Create a Spark session\n",
    "2. Define the schema for loading the Chicago crime dataset (https://data.cityofchicago.org/Public-Safety/Crimes-2001-to-Present/ijzp-q8t2/data).\n",
    "3. Load the Chicago crime data (you should get more than a million rows).\n",
    "4. Clean the data:\n",
    "    - Remove all null values.\n",
    "    - Change 'Date' column data type\n",
    "5. Filter the data for last ten years.\n",
    "6. Remove all the records with the following crime types:\n",
    "    - 'NON-CRIMINAL (SUBJECT SPECIFIED)'\n",
    "    - 'OTHER OFFENSE'\n",
    "    - 'STALKING'\n",
    "    - 'NON - CRIMINAL'\n",
    "    - 'ARSON'\n",
    "7. Merge the similar crime types.\n",
    "    - For example, change 'Primary Type' of cases that have 'Primary Type' as ‘SEX OFFENSE’ or ‘PROSTITUTION’ such that they should have the same 'Primary Type'.\n",
    "8. Analyze the data and present results:\n",
    "    - Show year-wise trend of the crime for last ten years.\n",
    "    - Find out at which hour of the day crime is highest.\n",
    "    - Find top ten crimes and present them as a bar chart"
   ]
  },
  {
   "cell_type": "code",
   "execution_count": 1,
   "id": "6dcb1217",
   "metadata": {},
   "outputs": [],
   "source": [
    "# IMPORTING SPARK SESSION FROM PYSPARK\n",
    "from pyspark.sql import SparkSession"
   ]
  },
  {
   "cell_type": "markdown",
   "id": "ea3dcc37",
   "metadata": {},
   "source": [
    "##### 1. CREATING A SPARK SESSION"
   ]
  },
  {
   "cell_type": "code",
   "execution_count": 2,
   "id": "0fffc951",
   "metadata": {},
   "outputs": [
    {
     "name": "stdout",
     "output_type": "stream",
     "text": [
      "23/03/28 22:08:04 WARN Utils: Your hostname, Shyams-MacBook-Pro.local resolves to a loopback address: 127.0.0.1; using 10.200.134.175 instead (on interface en0)\n",
      "23/03/28 22:08:04 WARN Utils: Set SPARK_LOCAL_IP if you need to bind to another address\n"
     ]
    },
    {
     "name": "stderr",
     "output_type": "stream",
     "text": [
      "Setting default log level to \"WARN\".\n",
      "To adjust logging level use sc.setLogLevel(newLevel). For SparkR, use setLogLevel(newLevel).\n"
     ]
    },
    {
     "name": "stdout",
     "output_type": "stream",
     "text": [
      "23/03/28 22:08:04 WARN NativeCodeLoader: Unable to load native-hadoop library for your platform... using builtin-java classes where applicable\n",
      "23/03/28 22:08:04 WARN Utils: Service 'SparkUI' could not bind on port 4040. Attempting port 4041.\n",
      "23/03/28 22:08:04 WARN Utils: Service 'SparkUI' could not bind on port 4041. Attempting port 4042.\n"
     ]
    }
   ],
   "source": [
    "spark = SparkSession.builder.appName(\"Assignment3\").getOrCreate()\n",
    "# print(spark)"
   ]
  },
  {
   "cell_type": "code",
   "execution_count": 3,
   "id": "104ad738",
   "metadata": {},
   "outputs": [],
   "source": [
    "# IMPORTING LIBRARIES WHICH ARE REQUIRED TO DEFINE A SCHEMA\n",
    "from pyspark.sql.types import StructType,StructField,IntegerType,StringType,DoubleType,TimestampType,BooleanType"
   ]
  },
  {
   "cell_type": "markdown",
   "id": "d0d0d55b",
   "metadata": {},
   "source": [
    "##### 2. DEFINING SCHEMA TO LOAD CHICAGO CRIME DATASET"
   ]
  },
  {
   "cell_type": "code",
   "execution_count": 4,
   "id": "f7b7df98",
   "metadata": {},
   "outputs": [],
   "source": [
    "schema = StructType([\n",
    "    StructField(\"ID\", IntegerType(), True),\n",
    "    StructField(\"Case Number\", StringType(), True),\n",
    "    StructField(\"Date\", StringType(), True),\n",
    "    StructField(\"Block\", StringType(), True),\n",
    "    StructField(\"IUCR\", StringType(), True),\n",
    "    StructField(\"Primary Type\", StringType(), True),\n",
    "    StructField(\"Description\", StringType(), True),\n",
    "    StructField(\"Location Description\", StringType(), True),\n",
    "    StructField(\"Arrest\", BooleanType(), True),\n",
    "    StructField(\"Domestic\", BooleanType(), True),\n",
    "    StructField(\"Beat\", IntegerType(), True),\n",
    "    StructField(\"District\", IntegerType(), True),\n",
    "    StructField(\"Ward\", IntegerType(), True),\n",
    "    StructField(\"Community Area\", IntegerType(), True),\n",
    "    StructField(\"FBI Code\", StringType(), True),\n",
    "    StructField(\"X Coordinate\", DoubleType(), True),\n",
    "    StructField(\"Y Coordinate\", DoubleType(), True),\n",
    "    StructField(\"Year\", IntegerType(), True),\n",
    "    StructField(\"Updated On\", StringType(), True),\n",
    "    StructField(\"Latitude\", DoubleType(), True),\n",
    "    StructField(\"Longitude\", DoubleType(), True),\n",
    "    StructField(\"Location\", StringType(), True)\n",
    "])"
   ]
  },
  {
   "cell_type": "markdown",
   "id": "0584afc2",
   "metadata": {},
   "source": [
    "##### 3. Loading the Chicago crime data using spark.read"
   ]
  },
  {
   "cell_type": "code",
   "execution_count": 6,
   "id": "3a122a2c",
   "metadata": {},
   "outputs": [],
   "source": [
    "df = spark.read.csv(\"Crimes-2001_to_Present.csv\",schema=schema,header=True)"
   ]
  },
  {
   "cell_type": "code",
   "execution_count": 7,
   "id": "7e439806",
   "metadata": {},
   "outputs": [
    {
     "name": "stdout",
     "output_type": "stream",
     "text": [
      "+--------+-----------+--------------------+--------------------+----+------------+--------------------+--------------------+------+--------+----+--------+----+--------------+--------+------------+------------+----+--------------------+------------+-------------+--------------------+\n",
      "|      ID|Case Number|                Date|               Block|IUCR|Primary Type|         Description|Location Description|Arrest|Domestic|Beat|District|Ward|Community Area|FBI Code|X Coordinate|Y Coordinate|Year|          Updated On|    Latitude|    Longitude|            Location|\n",
      "+--------+-----------+--------------------+--------------------+----+------------+--------------------+--------------------+------+--------+----+--------+----+--------------+--------+------------+------------+----+--------------------+------------+-------------+--------------------+\n",
      "|10224738|   HY411648|09/05/2015 01:30:...|     043XX S WOOD ST|0486|     BATTERY|DOMESTIC BATTERY ...|           RESIDENCE| false|    true| 924|       9|  12|            61|     08B|   1165074.0|   1875917.0|2015|02/10/2018 03:50:...|41.815117282|-87.669999562|(41.815117282, -8...|\n",
      "|10224739|   HY411615|09/04/2015 11:30:...| 008XX N CENTRAL AVE|0870|       THEFT|      POCKET-PICKING|             CTA BUS| false|   false|1511|      15|  29|            25|      06|   1138875.0|   1904869.0|2015|02/10/2018 03:50:...|41.895080471|-87.765400451|(41.895080471, -8...|\n",
      "|11646166|   JC213529|09/01/2018 12:01:...|082XX S INGLESIDE...|0810|       THEFT|           OVER $500|           RESIDENCE| false|    true| 631|       6|   8|            44|      06|        null|        null|2018|04/06/2019 04:04:...|        null|         null|                null|\n",
      "|10224740|   HY411595|09/05/2015 12:45:...|   035XX W BARRY AVE|2023|   NARCOTICS|POSS: HEROIN(BRN/...|            SIDEWALK|  true|   false|1412|      14|  35|            21|      18|   1152037.0|   1920384.0|2015|02/10/2018 03:50:...|41.937405765|-87.716649687|(41.937405765, -8...|\n",
      "|10224741|   HY411610|09/05/2015 01:00:...| 0000X N LARAMIE AVE|0560|     ASSAULT|              SIMPLE|           APARTMENT| false|    true|1522|      15|  28|            25|     08A|   1141706.0|   1900086.0|2015|02/10/2018 03:50:...|41.881903443|-87.755121152|(41.881903443, -8...|\n",
      "+--------+-----------+--------------------+--------------------+----+------------+--------------------+--------------------+------+--------+----+--------+----+--------------+--------+------------+------------+----+--------------------+------------+-------------+--------------------+\n",
      "only showing top 5 rows\n",
      "\n"
     ]
    }
   ],
   "source": [
    "# VIEWING THE FIRST 5 ROWS OF DATA TO SEE IF THE DATA IS LOADED CORRECTLY \n",
    "df.show(5)"
   ]
  },
  {
   "cell_type": "markdown",
   "id": "5b11fab3",
   "metadata": {},
   "source": [
    "##### 4. Cleaning the data `"
   ]
  },
  {
   "cell_type": "code",
   "execution_count": 8,
   "id": "4e57cecd",
   "metadata": {},
   "outputs": [
    {
     "name": "stderr",
     "output_type": "stream",
     "text": [
      "                                                                                \r"
     ]
    },
    {
     "data": {
      "text/plain": [
       "7761616"
      ]
     },
     "execution_count": 8,
     "metadata": {},
     "output_type": "execute_result"
    }
   ],
   "source": [
    "# ROW COUNT BEFORE DROPPING NULL VALUES\n",
    "df.count()"
   ]
  },
  {
   "cell_type": "code",
   "execution_count": 9,
   "id": "0ad597fb",
   "metadata": {},
   "outputs": [],
   "source": [
    "# DROPPING THE NULL VALUES\n",
    "df=df.dropna()"
   ]
  },
  {
   "cell_type": "code",
   "execution_count": 10,
   "id": "ae32ab10",
   "metadata": {},
   "outputs": [
    {
     "name": "stderr",
     "output_type": "stream",
     "text": [
      "                                                                                \r"
     ]
    },
    {
     "data": {
      "text/plain": [
       "7062515"
      ]
     },
     "execution_count": 10,
     "metadata": {},
     "output_type": "execute_result"
    }
   ],
   "source": [
    "# ROW COUNT AFTER DROPPING NULL VALUES\n",
    "df.count()"
   ]
  },
  {
   "cell_type": "code",
   "execution_count": 11,
   "id": "e6a20b5a",
   "metadata": {},
   "outputs": [
    {
     "name": "stdout",
     "output_type": "stream",
     "text": [
      "root\n",
      " |-- ID: integer (nullable = true)\n",
      " |-- Case Number: string (nullable = true)\n",
      " |-- Date: string (nullable = true)\n",
      " |-- Block: string (nullable = true)\n",
      " |-- IUCR: string (nullable = true)\n",
      " |-- Primary Type: string (nullable = true)\n",
      " |-- Description: string (nullable = true)\n",
      " |-- Location Description: string (nullable = true)\n",
      " |-- Arrest: boolean (nullable = true)\n",
      " |-- Domestic: boolean (nullable = true)\n",
      " |-- Beat: integer (nullable = true)\n",
      " |-- District: integer (nullable = true)\n",
      " |-- Ward: integer (nullable = true)\n",
      " |-- Community Area: integer (nullable = true)\n",
      " |-- FBI Code: string (nullable = true)\n",
      " |-- X Coordinate: double (nullable = true)\n",
      " |-- Y Coordinate: double (nullable = true)\n",
      " |-- Year: integer (nullable = true)\n",
      " |-- Updated On: string (nullable = true)\n",
      " |-- Latitude: double (nullable = true)\n",
      " |-- Longitude: double (nullable = true)\n",
      " |-- Location: string (nullable = true)\n",
      "\n"
     ]
    }
   ],
   "source": [
    "# PRINTING SCHEMA TO CHECK DATA TYPE OF DATE COLUMN\n",
    "df.printSchema()"
   ]
  },
  {
   "cell_type": "code",
   "execution_count": 12,
   "id": "fde01308",
   "metadata": {},
   "outputs": [],
   "source": [
    "# CHANGING THE DATE COLUMN FROM STRING TO TIMESTAMP\n",
    "from pyspark.sql.functions import col,year,hour,current_date,date_sub,to_timestamp,when\n",
    "df = df.withColumn(\"Date\", to_timestamp(df.Date, \"MM/dd/yyyy hh:mm:ss a\"))"
   ]
  },
  {
   "cell_type": "code",
   "execution_count": 13,
   "id": "45032bac",
   "metadata": {},
   "outputs": [
    {
     "name": "stdout",
     "output_type": "stream",
     "text": [
      "root\n",
      " |-- ID: integer (nullable = true)\n",
      " |-- Case Number: string (nullable = true)\n",
      " |-- Date: timestamp (nullable = true)\n",
      " |-- Block: string (nullable = true)\n",
      " |-- IUCR: string (nullable = true)\n",
      " |-- Primary Type: string (nullable = true)\n",
      " |-- Description: string (nullable = true)\n",
      " |-- Location Description: string (nullable = true)\n",
      " |-- Arrest: boolean (nullable = true)\n",
      " |-- Domestic: boolean (nullable = true)\n",
      " |-- Beat: integer (nullable = true)\n",
      " |-- District: integer (nullable = true)\n",
      " |-- Ward: integer (nullable = true)\n",
      " |-- Community Area: integer (nullable = true)\n",
      " |-- FBI Code: string (nullable = true)\n",
      " |-- X Coordinate: double (nullable = true)\n",
      " |-- Y Coordinate: double (nullable = true)\n",
      " |-- Year: integer (nullable = true)\n",
      " |-- Updated On: string (nullable = true)\n",
      " |-- Latitude: double (nullable = true)\n",
      " |-- Longitude: double (nullable = true)\n",
      " |-- Location: string (nullable = true)\n",
      "\n"
     ]
    }
   ],
   "source": [
    "# PRINTING THE SCHEMA AGAIN TO VERIFY DATE COLUMN DATA TYPE HAS CHANGED TO TIMESTAMP\n",
    "df.printSchema()"
   ]
  },
  {
   "cell_type": "code",
   "execution_count": 14,
   "id": "adaa3b6c",
   "metadata": {},
   "outputs": [
    {
     "name": "stdout",
     "output_type": "stream",
     "text": [
      "+--------+-----------+-------------------+-------------------+----+------------+--------------------+--------------------+------+--------+----+--------+----+--------------+--------+------------+------------+----+--------------------+------------+-------------+--------------------+\n",
      "|      ID|Case Number|               Date|              Block|IUCR|Primary Type|         Description|Location Description|Arrest|Domestic|Beat|District|Ward|Community Area|FBI Code|X Coordinate|Y Coordinate|Year|          Updated On|    Latitude|    Longitude|            Location|\n",
      "+--------+-----------+-------------------+-------------------+----+------------+--------------------+--------------------+------+--------+----+--------+----+--------------+--------+------------+------------+----+--------------------+------------+-------------+--------------------+\n",
      "|10224738|   HY411648|2015-09-05 13:30:00|    043XX S WOOD ST|0486|     BATTERY|DOMESTIC BATTERY ...|           RESIDENCE| false|    true| 924|       9|  12|            61|     08B|   1165074.0|   1875917.0|2015|02/10/2018 03:50:...|41.815117282|-87.669999562|(41.815117282, -8...|\n",
      "|10224739|   HY411615|2015-09-04 11:30:00|008XX N CENTRAL AVE|0870|       THEFT|      POCKET-PICKING|             CTA BUS| false|   false|1511|      15|  29|            25|      06|   1138875.0|   1904869.0|2015|02/10/2018 03:50:...|41.895080471|-87.765400451|(41.895080471, -8...|\n",
      "|10224740|   HY411595|2015-09-05 12:45:00|  035XX W BARRY AVE|2023|   NARCOTICS|POSS: HEROIN(BRN/...|            SIDEWALK|  true|   false|1412|      14|  35|            21|      18|   1152037.0|   1920384.0|2015|02/10/2018 03:50:...|41.937405765|-87.716649687|(41.937405765, -8...|\n",
      "+--------+-----------+-------------------+-------------------+----+------------+--------------------+--------------------+------+--------+----+--------+----+--------------+--------+------------+------------+----+--------------------+------------+-------------+--------------------+\n",
      "only showing top 3 rows\n",
      "\n"
     ]
    }
   ],
   "source": [
    "# VERIFYING THAT THE DATA FOR DATE COLUMN IS NOT BROKEN AFTER CHANGING THE DATA TYPE\n",
    "df.show(3)"
   ]
  },
  {
   "cell_type": "markdown",
   "id": "68472428",
   "metadata": {},
   "source": [
    "##### 5. Filtering the data for last ten years."
   ]
  },
  {
   "cell_type": "code",
   "execution_count": 15,
   "id": "40304b7e",
   "metadata": {},
   "outputs": [],
   "source": [
    "# 3650 REFERS TO NUMBER OF DAYS IN PAST 10 YEARS\n",
    "new_df = df.filter(df.Date >= date_sub(current_date(), 3650))"
   ]
  },
  {
   "cell_type": "markdown",
   "id": "3c789a16",
   "metadata": {},
   "source": [
    "##### 6. Removing all the records with the following crime types:\n",
    "- 'NON-CRIMINAL (SUBJECT SPECIFIED)'\n",
    "- 'OTHER OFFENSE'\n",
    "- 'STALKING'\n",
    "- 'NON - CRIMINAL'\n",
    "- 'ARSON'"
   ]
  },
  {
   "cell_type": "code",
   "execution_count": 16,
   "id": "6742637b",
   "metadata": {},
   "outputs": [],
   "source": [
    "# LISTED ALL THE GIVEN CRIME TYPES AND USED A FILTER TO REMOVE THOSE ROWS\n",
    "crime_types = ['NON-CRIMINAL (SUBJECT SPECIFIED)', 'OTHER OFFENSE', 'STALKING', 'NON - CRIMINAL', 'ARSON']\n",
    "new_df = new_df.filter(~col(\"Primary Type\").isin(crime_types))"
   ]
  },
  {
   "cell_type": "markdown",
   "id": "d750da3d",
   "metadata": {},
   "source": [
    "##### 7. Merging the similar crime types."
   ]
  },
  {
   "cell_type": "code",
   "execution_count": 17,
   "id": "85d7fb21",
   "metadata": {},
   "outputs": [
    {
     "name": "stderr",
     "output_type": "stream",
     "text": [
      "                                                                                \r"
     ]
    },
    {
     "data": {
      "text/plain": [
       "[Row(Primary Type='OFFENSE INVOLVING CHILDREN'),\n",
       " Row(Primary Type='CRIMINAL SEXUAL ASSAULT'),\n",
       " Row(Primary Type='PUBLIC PEACE VIOLATION'),\n",
       " Row(Primary Type='OBSCENITY'),\n",
       " Row(Primary Type='GAMBLING'),\n",
       " Row(Primary Type='CRIMINAL TRESPASS'),\n",
       " Row(Primary Type='ASSAULT'),\n",
       " Row(Primary Type='LIQUOR LAW VIOLATION'),\n",
       " Row(Primary Type='MOTOR VEHICLE THEFT'),\n",
       " Row(Primary Type='THEFT'),\n",
       " Row(Primary Type='BATTERY'),\n",
       " Row(Primary Type='ROBBERY'),\n",
       " Row(Primary Type='HOMICIDE'),\n",
       " Row(Primary Type='PUBLIC INDECENCY'),\n",
       " Row(Primary Type='CRIM SEXUAL ASSAULT'),\n",
       " Row(Primary Type='HUMAN TRAFFICKING'),\n",
       " Row(Primary Type='INTIMIDATION'),\n",
       " Row(Primary Type='PROSTITUTION'),\n",
       " Row(Primary Type='DECEPTIVE PRACTICE'),\n",
       " Row(Primary Type='CONCEALED CARRY LICENSE VIOLATION'),\n",
       " Row(Primary Type='SEX OFFENSE'),\n",
       " Row(Primary Type='CRIMINAL DAMAGE'),\n",
       " Row(Primary Type='NARCOTICS'),\n",
       " Row(Primary Type='NON-CRIMINAL'),\n",
       " Row(Primary Type='KIDNAPPING'),\n",
       " Row(Primary Type='BURGLARY'),\n",
       " Row(Primary Type='WEAPONS VIOLATION'),\n",
       " Row(Primary Type='OTHER NARCOTIC VIOLATION'),\n",
       " Row(Primary Type='INTERFERENCE WITH PUBLIC OFFICER'),\n",
       " Row(Primary Type='RITUALISM')]"
      ]
     },
     "execution_count": 17,
     "metadata": {},
     "output_type": "execute_result"
    }
   ],
   "source": [
    "# FINDING THE DISTINCT PRIMARY TYPES \n",
    "distinct=new_df.select('Primary Type').distinct().collect()\n",
    "distinct"
   ]
  },
  {
   "cell_type": "code",
   "execution_count": 20,
   "id": "9887349c",
   "metadata": {},
   "outputs": [],
   "source": [
    "# MERGING THE SIMILAR DATA TYPES \n",
    "new_df = new_df.withColumn(\"Primary Type\",when(col(\"Primary Type\") == \"PROSTITUTION\", \"SEX OFFENSE\")\n",
    "                           .when(col(\"Primary Type\") == \"CRIMINAL SEXUAL ASSAULT\", \"SEX OFFENSE\")\n",
    "                           .when(col(\"Primary Type\") == \"CRIM SEXUAL ASSAULT\", \"SEX OFFENSE\")\n",
    "                           .when(col(\"Primary Type\") == \"MOTOR VEHICLE THEFT\", \"THEFT\")\n",
    "                           .when(col(\"Primary Type\") == \"BURGLARY\", \"ROBBERY\")\n",
    "                           .when(col(\"Primary Type\") == \"PUBLIC INDECENCY\", \"OBSCENITY\")\n",
    "                           .when(col(\"Primary Type\") == \"OTHER NARCOTIC VIOLATION\", \"NARCOTICS\")\n",
    "                          .otherwise(col(\"Primary Type\")))"
   ]
  },
  {
   "cell_type": "code",
   "execution_count": 21,
   "id": "5e1886b8",
   "metadata": {},
   "outputs": [
    {
     "name": "stderr",
     "output_type": "stream",
     "text": [
      "                                                                                \r"
     ]
    },
    {
     "data": {
      "text/plain": [
       "[Row(Primary Type='OFFENSE INVOLVING CHILDREN'),\n",
       " Row(Primary Type='PUBLIC PEACE VIOLATION'),\n",
       " Row(Primary Type='OBSCENITY'),\n",
       " Row(Primary Type='GAMBLING'),\n",
       " Row(Primary Type='CRIMINAL TRESPASS'),\n",
       " Row(Primary Type='ASSAULT'),\n",
       " Row(Primary Type='LIQUOR LAW VIOLATION'),\n",
       " Row(Primary Type='THEFT'),\n",
       " Row(Primary Type='BATTERY'),\n",
       " Row(Primary Type='ROBBERY'),\n",
       " Row(Primary Type='HOMICIDE'),\n",
       " Row(Primary Type='HUMAN TRAFFICKING'),\n",
       " Row(Primary Type='INTIMIDATION'),\n",
       " Row(Primary Type='DECEPTIVE PRACTICE'),\n",
       " Row(Primary Type='CONCEALED CARRY LICENSE VIOLATION'),\n",
       " Row(Primary Type='SEX OFFENSE'),\n",
       " Row(Primary Type='CRIMINAL DAMAGE'),\n",
       " Row(Primary Type='NARCOTICS'),\n",
       " Row(Primary Type='NON-CRIMINAL'),\n",
       " Row(Primary Type='KIDNAPPING'),\n",
       " Row(Primary Type='WEAPONS VIOLATION'),\n",
       " Row(Primary Type='INTERFERENCE WITH PUBLIC OFFICER'),\n",
       " Row(Primary Type='RITUALISM')]"
      ]
     },
     "execution_count": 21,
     "metadata": {},
     "output_type": "execute_result"
    }
   ],
   "source": [
    "# VERIFYING THAT THE DISTINCT PRIMARY TYPES HAS BEEN REDUCED\n",
    "distinct=new_df.select('Primary Type').distinct().collect()\n",
    "distinct"
   ]
  },
  {
   "cell_type": "markdown",
   "id": "116bd06c",
   "metadata": {},
   "source": [
    "##### 8. Analyzing the data"
   ]
  },
  {
   "cell_type": "code",
   "execution_count": 22,
   "id": "39f50c67",
   "metadata": {},
   "outputs": [],
   "source": [
    "import matplotlib.pyplot as plt\n",
    "import numpy as np"
   ]
  },
  {
   "cell_type": "code",
   "execution_count": null,
   "id": "9f94165a",
   "metadata": {},
   "outputs": [],
   "source": []
  },
  {
   "cell_type": "markdown",
   "id": "79817b18",
   "metadata": {},
   "source": [
    "##### Showing year-wise trend of the crime for last ten years."
   ]
  },
  {
   "cell_type": "code",
   "execution_count": 23,
   "id": "4583bd40",
   "metadata": {},
   "outputs": [
    {
     "name": "stderr",
     "output_type": "stream",
     "text": [
      "                                                                                \r"
     ]
    },
    {
     "data": {
      "image/png": "[encoded data removed]",
      "text/plain": [
       "<Figure size 432x288 with 1 Axes>"
      ]
     },
     "metadata": {
      "needs_background": "light"
     },
     "output_type": "display_data"
    },
    {
     "data": {
      "text/plain": [
       "<Figure size 576x360 with 0 Axes>"
      ]
     },
     "metadata": {},
     "output_type": "display_data"
    }
   ],
   "source": [
    "# GROUPING BY YEAR AND USING COUNT AS AGGREGATE FUNCTION AS COUNT TO FIND NUMBER OF CRIMES FOR EACH YEAR\n",
    "year_df=new_df.groupBy(year(col(\"Date\")).alias(\"Year\")).count().orderBy(col(\"Year\"))\n",
    "years = [row[\"Year\"] for row in year_df.collect()]\n",
    "crime_count = [row[\"count\"] for row in year_df.collect()]\n",
    "plt.bar(years,crime_count)\n",
    "plt.title(\"year-wise trend of the crime for last ten years.\")\n",
    "plt.xticks(np.arange(min(years), max(years)+1, 1))\n",
    "plt.figure(figsize=(8,5))\n",
    "plt.show()"
   ]
  },
  {
   "cell_type": "markdown",
   "id": "839f402b",
   "metadata": {},
   "source": [
    "##### Find out at which hour of the day crime is highest."
   ]
  },
  {
   "cell_type": "code",
   "execution_count": 21,
   "id": "0353ef80",
   "metadata": {},
   "outputs": [
    {
     "name": "stderr",
     "output_type": "stream",
     "text": [
      "                                                                                \r"
     ]
    },
    {
     "data": {
      "image/png": "[encoded data removed]",
      "text/plain": [
       "<Figure size 432x288 with 1 Axes>"
      ]
     },
     "metadata": {
      "needs_background": "light"
     },
     "output_type": "display_data"
    },
    {
     "data": {
      "text/plain": [
       "<Figure size 576x360 with 0 Axes>"
      ]
     },
     "metadata": {},
     "output_type": "display_data"
    }
   ],
   "source": [
    "# GROUPING BY HOUR AND USING COUNT AS AGGREGATE FUNCTION AS COUNT TO FIND NUMBER OF CRIMES FOR EACH HOUR\n",
    "hour_df=new_df.groupBy(hour(col(\"Date\")).alias(\"Hour\")).count().orderBy(col(\"Hour\"))\n",
    "hours = [row[\"Hour\"] for row in hour_df.collect()]\n",
    "crime_count = [row[\"count\"] for row in hour_df.collect()]\n",
    "plt.xticks(np.arange(min(hours), max(hours)+1, 1))\n",
    "plt.title(\"hour-wise trend of the crime for last ten years.\")\n",
    "plt.bar(hours,crime_count)\n",
    "plt.figure(figsize=(8,5))\n",
    "plt.show()"
   ]
  },
  {
   "cell_type": "markdown",
   "id": "c28a241d",
   "metadata": {},
   "source": [
    "##### Based on the graph above we can say 12th hour has highest crime rate"
   ]
  },
  {
   "cell_type": "markdown",
   "id": "f08e78ba",
   "metadata": {},
   "source": [
    "##### Find top ten crimes and present them as a bar chart"
   ]
  },
  {
   "cell_type": "code",
   "execution_count": 22,
   "id": "3e784d6d",
   "metadata": {},
   "outputs": [
    {
     "name": "stderr",
     "output_type": "stream",
     "text": [
      "                                                                                \r"
     ]
    },
    {
     "data": {
      "image/png": "[encoded data removed]",
      "text/plain": [
       "<Figure size 432x288 with 1 Axes>"
      ]
     },
     "metadata": {
      "needs_background": "light"
     },
     "output_type": "display_data"
    },
    {
     "data": {
      "text/plain": [
       "<Figure size 576x360 with 0 Axes>"
      ]
     },
     "metadata": {},
     "output_type": "display_data"
    }
   ],
   "source": [
    "# GROUPING BY PRIMARY TYPE AND USING COUNT AS AGGREGATE FUNCTION AS COUNT AND SORTING THEM TO FIND TOP TEN CRIMES\n",
    "crime_df = new_df.groupBy(col(\"Primary Type\")).count().orderBy(col(\"count\").desc()).limit(10)\n",
    "crime_types = [row[\"Primary Type\"] for row in crime_df.collect()]\n",
    "crime_counts = [row[\"count\"] for row in crime_df.collect()]\n",
    "plt.barh(crime_types, crime_counts)\n",
    "plt.title(\"Top ten crimes for last ten years.\")\n",
    "plt.figure(figsize=(8,5))\n",
    "plt.show()"
   ]
  },
  {
   "cell_type": "code",
   "execution_count": 23,
   "id": "923b5558",
   "metadata": {},
   "outputs": [],
   "source": [
    "# CLOSING THE SPARK SESSION\n",
    "spark.stop()"
   ]
  }
 ],
 "metadata": {
  "kernelspec": {
   "display_name": "Python 3 (ipykernel)",
   "language": "python",
   "name": "python3"
  },
  "language_info": {
   "codemirror_mode": {
    "name": "ipython",
    "version": 3
   },
   "file_extension": ".py",
   "mimetype": "text/x-python",
   "name": "python",
   "nbconvert_exporter": "python",
   "pygments_lexer": "ipython3",
   "version": "3.9.12"
  }
 },
 "nbformat": 4,
 "nbformat_minor": 5
}
